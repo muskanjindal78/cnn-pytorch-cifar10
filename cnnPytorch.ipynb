{
  "cells": [
    {
      "cell_type": "code",
      "execution_count": null,
      "metadata": {
        "colab": {
          "base_uri": "https://localhost:8080/"
        },
        "id": "s_uFVV3T-z_D",
        "outputId": "ca03cbd5-451a-4fd3-ddec-267d7f4874f6"
      },
      "outputs": [
        {
          "output_type": "execute_result",
          "data": {
            "text/plain": [
              "<torch._C.Generator at 0x7b7641b4c470>"
            ]
          },
          "metadata": {},
          "execution_count": 18
        }
      ],
      "source": [
        "import torch\n",
        "import torch.nn as nn\n",
        "import torch.optim as optim\n",
        "import torchvision\n",
        "import torchvision.transforms as transforms\n",
        "\n",
        "# Set the seed for reproducibility\n",
        "torch.manual_seed(42)"
      ]
    },
    {
      "cell_type": "code",
      "execution_count": null,
      "metadata": {
        "colab": {
          "base_uri": "https://localhost:8080/"
        },
        "id": "mXLDOdlSAEbh",
        "outputId": "2d3a2fb0-7c27-4450-df86-3b654d122043"
      },
      "outputs": [
        {
          "output_type": "stream",
          "name": "stdout",
          "text": [
            "Files already downloaded and verified\n",
            "Files already downloaded and verified\n",
            "Number of images in the training dataset: 50000\n",
            "Size of each image: torch.Size([3, 32, 32])\n"
          ]
        }
      ],
      "source": [
        "# Define transformations for the training and testing sets\n",
        "transform = transforms.Compose([\n",
        "    transforms.ToTensor(),\n",
        "    transforms.Normalize((0.5, 0.5, 0.5), (0.5, 0.5, 0.5))\n",
        "])\n",
        "\n",
        "# Download and load the training dataset\n",
        "trainset = torchvision.datasets.CIFAR10(root='./data', train=True, download=True, transform=transform)\n",
        "trainloader = torch.utils.data.DataLoader(trainset, batch_size=100, shuffle=True, num_workers=2)\n",
        "\n",
        "# Download and load the testing dataset\n",
        "testset = torchvision.datasets.CIFAR10(root='./data', train=False, download=True, transform=transform)\n",
        "testloader = torch.utils.data.DataLoader(testset, batch_size=100, shuffle=False, num_workers=2)\n",
        "\n",
        "# Get the number of images in the training dataset\n",
        "print(f'Number of images in the training dataset: {len(trainset)}')\n",
        "\n",
        "# Get the size of each image (height, width, channels)\n",
        "image, label = trainset[0]\n",
        "print(f'Size of each image: {image.size()}')  # Should print torch.Size([3, 32, 32])\n"
      ]
    },
    {
      "cell_type": "code",
      "execution_count": null,
      "metadata": {
        "id": "G-bFp27TAEiC"
      },
      "outputs": [],
      "source": [
        "class Net(nn.Module):\n",
        "    def __init__(self):\n",
        "        super(Net, self).__init__()\n",
        "        # First convolutional layer: 3 input channels (RGB), 6 output channels, 5x5 kernel\n",
        "        self.conv1 = nn.Conv2d(3, 6, 5)\n",
        "        # Max pooling layer: 2x2 kernel, stride 2\n",
        "        self.pool = nn.MaxPool2d(2, 2)\n",
        "        # Second convolutional layer: 6 input channels, 16 output channels, 5x5 kernel\n",
        "        self.conv2 = nn.Conv2d(6, 16, 5)\n",
        "        # Fully connected layers\n",
        "        self.fc1 = nn.Linear(16 * 5 * 5, 120)\n",
        "        self.fc2 = nn.Linear(120, 84)\n",
        "        self.fc3 = nn.Linear(84, 10)\n",
        "\n",
        "    def forward(self, x):\n",
        "        # Apply the first convolution, ReLU, and max pooling\n",
        "        x = self.pool(torch.relu(self.conv1(x)))\n",
        "        # Apply the second convolution, ReLU, and max pooling\n",
        "        x = self.pool(torch.relu(self.conv2(x)))\n",
        "        # Flatten the output\n",
        "        x = x.view(-1, 16 * 5 * 5)\n",
        "        # Apply the first fully connected layer, ReLU\n",
        "        x = torch.relu(self.fc1(x))\n",
        "        # Apply the second fully connected layer, ReLU\n",
        "        x = torch.relu(self.fc2(x))\n",
        "        # Apply the third fully connected layer (output layer)\n",
        "        x = self.fc3(x)\n",
        "        return x\n",
        "\n",
        "# Initialize the network\n",
        "net = Net()"
      ]
    },
    {
      "cell_type": "code",
      "execution_count": null,
      "metadata": {
        "colab": {
          "base_uri": "https://localhost:8080/"
        },
        "id": "wLbP8vC8AElD",
        "outputId": "208eb569-90f7-4972-b7bb-eb5c0e2ee812"
      },
      "outputs": [
        {
          "output_type": "stream",
          "name": "stdout",
          "text": [
            "Total number of parameters in the network: 62006\n"
          ]
        }
      ],
      "source": [
        "total_params = sum(p.numel() for p in net.parameters() if p.requires_grad)\n",
        "print(f'Total number of parameters in the network: {total_params}')\n"
      ]
    },
    {
      "cell_type": "code",
      "execution_count": null,
      "metadata": {
        "id": "j0q0PwJKAEnr"
      },
      "outputs": [],
      "source": [
        "criterion = nn.CrossEntropyLoss()\n",
        "optimizer = optim.SGD(net.parameters(), lr=0.01, momentum=0.9)"
      ]
    },
    {
      "cell_type": "code",
      "execution_count": null,
      "metadata": {
        "colab": {
          "base_uri": "https://localhost:8080/"
        },
        "id": "TjC5bQJqAEqc",
        "outputId": "bde28639-a2db-4e3c-a096-f2abc7b46dc0"
      },
      "outputs": [
        {
          "output_type": "stream",
          "name": "stdout",
          "text": [
            "Initial loss: 2.3038909435272217\n"
          ]
        }
      ],
      "source": [
        "# Get a batch of training data\n",
        "dataiter = iter(trainloader)\n",
        "images, labels = next(dataiter)\n",
        "\n",
        "# Perform a forward pass\n",
        "outputs = net(images)\n",
        "initial_loss = criterion(outputs, labels)\n",
        "print(f'Initial loss: {initial_loss.item()}')"
      ]
    },
    {
      "cell_type": "code",
      "execution_count": null,
      "metadata": {
        "id": "3du65PefAEtE",
        "colab": {
          "base_uri": "https://localhost:8080/"
        },
        "outputId": "b0a34eab-3155-4cd5-fe0b-90bf9d2e7966"
      },
      "outputs": [
        {
          "output_type": "stream",
          "name": "stdout",
          "text": [
            "[Epoch 1, Batch 100] loss: 2.298\n",
            "[Epoch 1, Batch 200] loss: 2.116\n",
            "[Epoch 1, Batch 300] loss: 1.882\n",
            "[Epoch 1, Batch 400] loss: 1.695\n",
            "[Epoch 1, Batch 500] loss: 1.591\n",
            "[Epoch 2, Batch 100] loss: 1.548\n",
            "[Epoch 2, Batch 200] loss: 1.472\n",
            "[Epoch 2, Batch 300] loss: 1.457\n",
            "[Epoch 2, Batch 400] loss: 1.437\n",
            "[Epoch 2, Batch 500] loss: 1.378\n",
            "Finished Training\n"
          ]
        }
      ],
      "source": [
        "for epoch in range(2):  # loop over the dataset twice\n",
        "    running_loss = 0.0\n",
        "    for i, data in enumerate(trainloader, 0):\n",
        "        # Get the inputs; data is a list of [inputs, labels]\n",
        "        inputs, labels = data\n",
        "\n",
        "        # Zero the parameter gradients\n",
        "        optimizer.zero_grad()\n",
        "\n",
        "        # Forward pass\n",
        "        outputs = net(inputs)\n",
        "        loss = criterion(outputs, labels)\n",
        "\n",
        "        # Backward pass and optimize\n",
        "        loss.backward()\n",
        "        optimizer.step()\n",
        "\n",
        "        # Print statistics\n",
        "        running_loss += loss.item()\n",
        "        if i % 100 == 99:  # print every 100 mini-batches\n",
        "            print(f'[Epoch {epoch + 1}, Batch {i + 1}] loss: {running_loss / 100:.3f}')\n",
        "            running_loss = 0.0\n",
        "\n",
        "print('Finished Training')"
      ]
    },
    {
      "cell_type": "code",
      "execution_count": null,
      "metadata": {
        "id": "CbO5JvfyAg_u",
        "colab": {
          "base_uri": "https://localhost:8080/"
        },
        "outputId": "ae01138f-bb3a-449b-a38c-ea39cc1bbf64"
      },
      "outputs": [
        {
          "output_type": "stream",
          "name": "stdout",
          "text": [
            "Accuracy of the network on the 10000 test images: 50.93%\n"
          ]
        }
      ],
      "source": [
        "correct = 0\n",
        "total = 0\n",
        "\n",
        "with torch.no_grad():\n",
        "    for data in testloader:\n",
        "        images, labels = data\n",
        "        outputs = net(images)\n",
        "        _, predicted = torch.max(outputs.data, 1)\n",
        "        total += labels.size(0)\n",
        "        correct += (predicted == labels).sum().item()\n",
        "\n",
        "accuracy = 100 * correct / total\n",
        "print(f'Accuracy of the network on the 10000 test images: {accuracy:.2f}%')"
      ]
    }
  ],
  "metadata": {
    "colab": {
      "provenance": []
    },
    "kernelspec": {
      "display_name": "Python 3",
      "name": "python3"
    },
    "language_info": {
      "name": "python"
    }
  },
  "nbformat": 4,
  "nbformat_minor": 0
}